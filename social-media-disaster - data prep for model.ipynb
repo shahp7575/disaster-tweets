{
 "cells": [
  {
   "cell_type": "code",
   "execution_count": 156,
   "metadata": {},
   "outputs": [
    {
     "data": {
      "text/html": [
       "<script type=\"text/javascript\">window.PlotlyConfig = {MathJaxConfig: 'local'};</script><script type=\"text/javascript\">if (window.MathJax) {MathJax.Hub.Config({SVG: {font: \"STIX-Web\"}});}</script><script>requirejs.config({paths: { 'plotly': ['https://cdn.plot.ly/plotly-latest.min']},});if(!window._Plotly) {require(['plotly'],function(plotly) {window._Plotly=plotly;});}</script>"
      ],
      "text/vnd.plotly.v1+html": [
       "<script type=\"text/javascript\">window.PlotlyConfig = {MathJaxConfig: 'local'};</script><script type=\"text/javascript\">if (window.MathJax) {MathJax.Hub.Config({SVG: {font: \"STIX-Web\"}});}</script><script>requirejs.config({paths: { 'plotly': ['https://cdn.plot.ly/plotly-latest.min']},});if(!window._Plotly) {require(['plotly'],function(plotly) {window._Plotly=plotly;});}</script>"
      ]
     },
     "metadata": {},
     "output_type": "display_data"
    }
   ],
   "source": [
    "import numpy as np\n",
    "import pandas as pd\n",
    "import matplotlib.pyplot as plt\n",
    "import seaborn as sns\n",
    "%matplotlib inline\n",
    "import re\n",
    "import nltk\n",
    "import string\n",
    "import warnings\n",
    "from wordcloud import WordCloud, STOPWORDS\n",
    "import pickle\n",
    "\n",
    "# plotly imports\n",
    "import plotly.offline as py\n",
    "py.init_notebook_mode(connected=True)\n",
    "import plotly.graph_objs as go\n",
    "import plotly.tools as tls\n",
    "\n",
    "pd.set_option('display.max_colwidth', 200)\n",
    "warnings.filterwarnings('ignore', category=DeprecationWarning)\n",
    "\n",
    "from sklearn.feature_extraction.text import TfidfVectorizer, CountVectorizer\n",
    "import gensim\n",
    "from gensim.models.doc2vec import LabeledSentence\n",
    "from tqdm import tqdm\n",
    "tqdm.pandas(desc='progress-bar')\n",
    "\n",
    "from sklearn.preprocessing import LabelEncoder\n",
    "from sklearn.linear_model import LogisticRegression\n",
    "from sklearn.svm import SVC\n",
    "from sklearn.ensemble import RandomForestClassifier\n",
    "import xgboost as xgb\n",
    "from xgboost import XGBClassifier\n",
    "from sklearn.model_selection import train_test_split\n",
    "from sklearn.metrics import f1_score"
   ]
  },
  {
   "cell_type": "code",
   "execution_count": 157,
   "metadata": {},
   "outputs": [
    {
     "data": {
      "text/html": [
       "<div>\n",
       "<style scoped>\n",
       "    .dataframe tbody tr th:only-of-type {\n",
       "        vertical-align: middle;\n",
       "    }\n",
       "\n",
       "    .dataframe tbody tr th {\n",
       "        vertical-align: top;\n",
       "    }\n",
       "\n",
       "    .dataframe thead th {\n",
       "        text-align: right;\n",
       "    }\n",
       "</style>\n",
       "<table border=\"1\" class=\"dataframe\">\n",
       "  <thead>\n",
       "    <tr style=\"text-align: right;\">\n",
       "      <th></th>\n",
       "      <th>text</th>\n",
       "      <th>choose_one</th>\n",
       "      <th>tidy_tweet</th>\n",
       "      <th>polarity</th>\n",
       "      <th>review_len</th>\n",
       "      <th>word_count</th>\n",
       "    </tr>\n",
       "  </thead>\n",
       "  <tbody>\n",
       "    <tr>\n",
       "      <th>0</th>\n",
       "      <td>Just happened a terrible car crash</td>\n",
       "      <td>Relevant</td>\n",
       "      <td>just happened a terrible car crash</td>\n",
       "      <td>-1.00</td>\n",
       "      <td>34</td>\n",
       "      <td>6</td>\n",
       "    </tr>\n",
       "    <tr>\n",
       "      <th>1</th>\n",
       "      <td>Our Deeds are the Reason of this #earthquake May ALLAH Forgive us all</td>\n",
       "      <td>Relevant</td>\n",
       "      <td>our deeds are the reason of this  earthquake may allah forgive us all</td>\n",
       "      <td>0.00</td>\n",
       "      <td>69</td>\n",
       "      <td>13</td>\n",
       "    </tr>\n",
       "    <tr>\n",
       "      <th>2</th>\n",
       "      <td>Heard about #earthquake is different cities, stay safe everyone.</td>\n",
       "      <td>Relevant</td>\n",
       "      <td>heard about  earthquake is different cities  stay safe everyone</td>\n",
       "      <td>0.25</td>\n",
       "      <td>64</td>\n",
       "      <td>9</td>\n",
       "    </tr>\n",
       "    <tr>\n",
       "      <th>3</th>\n",
       "      <td>there is a forest fire at spot pond, geese are fleeing across the street, I cannot save them all</td>\n",
       "      <td>Relevant</td>\n",
       "      <td>there is a forest fire at spot pond  geese are fleeing across the street  i cannot save them all</td>\n",
       "      <td>0.00</td>\n",
       "      <td>96</td>\n",
       "      <td>19</td>\n",
       "    </tr>\n",
       "    <tr>\n",
       "      <th>4</th>\n",
       "      <td>Forest fire near La Ronge Sask. Canada</td>\n",
       "      <td>Relevant</td>\n",
       "      <td>forest fire near la ronge sask  canada</td>\n",
       "      <td>0.10</td>\n",
       "      <td>38</td>\n",
       "      <td>7</td>\n",
       "    </tr>\n",
       "  </tbody>\n",
       "</table>\n",
       "</div>"
      ],
      "text/plain": [
       "                                                                                               text  \\\n",
       "0                                                                Just happened a terrible car crash   \n",
       "1                             Our Deeds are the Reason of this #earthquake May ALLAH Forgive us all   \n",
       "2                                  Heard about #earthquake is different cities, stay safe everyone.   \n",
       "3  there is a forest fire at spot pond, geese are fleeing across the street, I cannot save them all   \n",
       "4                                                            Forest fire near La Ronge Sask. Canada   \n",
       "\n",
       "  choose_one  \\\n",
       "0   Relevant   \n",
       "1   Relevant   \n",
       "2   Relevant   \n",
       "3   Relevant   \n",
       "4   Relevant   \n",
       "\n",
       "                                                                                         tidy_tweet  \\\n",
       "0                                                                just happened a terrible car crash   \n",
       "1                             our deeds are the reason of this  earthquake may allah forgive us all   \n",
       "2                                  heard about  earthquake is different cities  stay safe everyone    \n",
       "3  there is a forest fire at spot pond  geese are fleeing across the street  i cannot save them all   \n",
       "4                                                            forest fire near la ronge sask  canada   \n",
       "\n",
       "   polarity  review_len  word_count  \n",
       "0     -1.00          34           6  \n",
       "1      0.00          69          13  \n",
       "2      0.25          64           9  \n",
       "3      0.00          96          19  \n",
       "4      0.10          38           7  "
      ]
     },
     "execution_count": 157,
     "metadata": {},
     "output_type": "execute_result"
    }
   ],
   "source": [
    "df = pd.read_csv('dataset.csv')\n",
    "df.head()"
   ]
  },
  {
   "cell_type": "code",
   "execution_count": 158,
   "metadata": {
    "collapsed": true
   },
   "outputs": [],
   "source": [
    "# Tokenizing\n",
    "def tokenize(text):\n",
    "    tweet_tokens = re.split('\\W+', text)\n",
    "    return tweet_tokens\n",
    "\n",
    "df['tidy_tweet_tokens'] = df['tidy_tweet'].apply(lambda x: tokenize(x))"
   ]
  },
  {
   "cell_type": "code",
   "execution_count": 159,
   "metadata": {
    "collapsed": true
   },
   "outputs": [],
   "source": [
    "# Removing stopwords\n",
    "stopwords = nltk.corpus.stopwords.words('english')"
   ]
  },
  {
   "cell_type": "code",
   "execution_count": 160,
   "metadata": {
    "collapsed": true
   },
   "outputs": [],
   "source": [
    "def remove_stopwords(tokens):\n",
    "    text = [word for word in tokens if word not in stopwords]\n",
    "    return text\n",
    "\n",
    "df['tidy_tweet_wo_stopw'] = df['tidy_tweet_tokens'].apply(lambda x: remove_stopwords(x))"
   ]
  },
  {
   "cell_type": "code",
   "execution_count": 161,
   "metadata": {
    "collapsed": true
   },
   "outputs": [],
   "source": [
    "# Stemming\n",
    "stemmer = nltk.PorterStemmer()\n",
    "\n",
    "def stemming(tokens):\n",
    "    res = [stemmer.stem(word) for word in tokens]\n",
    "    return res\n",
    "\n",
    "df['tidy_tweet_stems'] = df['tidy_tweet_wo_stopw'].apply(lambda x: stemming(x))"
   ]
  },
  {
   "cell_type": "code",
   "execution_count": 162,
   "metadata": {},
   "outputs": [
    {
     "data": {
      "text/html": [
       "<div>\n",
       "<style scoped>\n",
       "    .dataframe tbody tr th:only-of-type {\n",
       "        vertical-align: middle;\n",
       "    }\n",
       "\n",
       "    .dataframe tbody tr th {\n",
       "        vertical-align: top;\n",
       "    }\n",
       "\n",
       "    .dataframe thead th {\n",
       "        text-align: right;\n",
       "    }\n",
       "</style>\n",
       "<table border=\"1\" class=\"dataframe\">\n",
       "  <thead>\n",
       "    <tr style=\"text-align: right;\">\n",
       "      <th></th>\n",
       "      <th>text</th>\n",
       "      <th>choose_one</th>\n",
       "      <th>tidy_tweet</th>\n",
       "      <th>polarity</th>\n",
       "      <th>review_len</th>\n",
       "      <th>word_count</th>\n",
       "      <th>tidy_tweet_tokens</th>\n",
       "      <th>tidy_tweet_wo_stopw</th>\n",
       "      <th>tidy_tweet_stems</th>\n",
       "    </tr>\n",
       "  </thead>\n",
       "  <tbody>\n",
       "    <tr>\n",
       "      <th>0</th>\n",
       "      <td>Just happened a terrible car crash</td>\n",
       "      <td>Relevant</td>\n",
       "      <td>just happened a terrible car crash</td>\n",
       "      <td>-1.00</td>\n",
       "      <td>34</td>\n",
       "      <td>6</td>\n",
       "      <td>[just, happened, a, terrible, car, crash]</td>\n",
       "      <td>[happened, terrible, car, crash]</td>\n",
       "      <td>[happen, terribl, car, crash]</td>\n",
       "    </tr>\n",
       "    <tr>\n",
       "      <th>1</th>\n",
       "      <td>Our Deeds are the Reason of this #earthquake May ALLAH Forgive us all</td>\n",
       "      <td>Relevant</td>\n",
       "      <td>our deeds are the reason of this  earthquake may allah forgive us all</td>\n",
       "      <td>0.00</td>\n",
       "      <td>69</td>\n",
       "      <td>13</td>\n",
       "      <td>[our, deeds, are, the, reason, of, this, earthquake, may, allah, forgive, us, all]</td>\n",
       "      <td>[deeds, reason, earthquake, may, allah, forgive, us]</td>\n",
       "      <td>[deed, reason, earthquak, may, allah, forgiv, us]</td>\n",
       "    </tr>\n",
       "    <tr>\n",
       "      <th>2</th>\n",
       "      <td>Heard about #earthquake is different cities, stay safe everyone.</td>\n",
       "      <td>Relevant</td>\n",
       "      <td>heard about  earthquake is different cities  stay safe everyone</td>\n",
       "      <td>0.25</td>\n",
       "      <td>64</td>\n",
       "      <td>9</td>\n",
       "      <td>[heard, about, earthquake, is, different, cities, stay, safe, everyone, ]</td>\n",
       "      <td>[heard, earthquake, different, cities, stay, safe, everyone, ]</td>\n",
       "      <td>[heard, earthquak, differ, citi, stay, safe, everyon, ]</td>\n",
       "    </tr>\n",
       "    <tr>\n",
       "      <th>3</th>\n",
       "      <td>there is a forest fire at spot pond, geese are fleeing across the street, I cannot save them all</td>\n",
       "      <td>Relevant</td>\n",
       "      <td>there is a forest fire at spot pond  geese are fleeing across the street  i cannot save them all</td>\n",
       "      <td>0.00</td>\n",
       "      <td>96</td>\n",
       "      <td>19</td>\n",
       "      <td>[there, is, a, forest, fire, at, spot, pond, geese, are, fleeing, across, the, street, i, cannot, save, them, all]</td>\n",
       "      <td>[forest, fire, spot, pond, geese, fleeing, across, street, cannot, save]</td>\n",
       "      <td>[forest, fire, spot, pond, gees, flee, across, street, cannot, save]</td>\n",
       "    </tr>\n",
       "    <tr>\n",
       "      <th>4</th>\n",
       "      <td>Forest fire near La Ronge Sask. Canada</td>\n",
       "      <td>Relevant</td>\n",
       "      <td>forest fire near la ronge sask  canada</td>\n",
       "      <td>0.10</td>\n",
       "      <td>38</td>\n",
       "      <td>7</td>\n",
       "      <td>[forest, fire, near, la, ronge, sask, canada]</td>\n",
       "      <td>[forest, fire, near, la, ronge, sask, canada]</td>\n",
       "      <td>[forest, fire, near, la, rong, sask, canada]</td>\n",
       "    </tr>\n",
       "  </tbody>\n",
       "</table>\n",
       "</div>"
      ],
      "text/plain": [
       "                                                                                               text  \\\n",
       "0                                                                Just happened a terrible car crash   \n",
       "1                             Our Deeds are the Reason of this #earthquake May ALLAH Forgive us all   \n",
       "2                                  Heard about #earthquake is different cities, stay safe everyone.   \n",
       "3  there is a forest fire at spot pond, geese are fleeing across the street, I cannot save them all   \n",
       "4                                                            Forest fire near La Ronge Sask. Canada   \n",
       "\n",
       "  choose_one  \\\n",
       "0   Relevant   \n",
       "1   Relevant   \n",
       "2   Relevant   \n",
       "3   Relevant   \n",
       "4   Relevant   \n",
       "\n",
       "                                                                                         tidy_tweet  \\\n",
       "0                                                                just happened a terrible car crash   \n",
       "1                             our deeds are the reason of this  earthquake may allah forgive us all   \n",
       "2                                  heard about  earthquake is different cities  stay safe everyone    \n",
       "3  there is a forest fire at spot pond  geese are fleeing across the street  i cannot save them all   \n",
       "4                                                            forest fire near la ronge sask  canada   \n",
       "\n",
       "   polarity  review_len  word_count  \\\n",
       "0     -1.00          34           6   \n",
       "1      0.00          69          13   \n",
       "2      0.25          64           9   \n",
       "3      0.00          96          19   \n",
       "4      0.10          38           7   \n",
       "\n",
       "                                                                                                    tidy_tweet_tokens  \\\n",
       "0                                                                           [just, happened, a, terrible, car, crash]   \n",
       "1                                  [our, deeds, are, the, reason, of, this, earthquake, may, allah, forgive, us, all]   \n",
       "2                                           [heard, about, earthquake, is, different, cities, stay, safe, everyone, ]   \n",
       "3  [there, is, a, forest, fire, at, spot, pond, geese, are, fleeing, across, the, street, i, cannot, save, them, all]   \n",
       "4                                                                       [forest, fire, near, la, ronge, sask, canada]   \n",
       "\n",
       "                                                        tidy_tweet_wo_stopw  \\\n",
       "0                                          [happened, terrible, car, crash]   \n",
       "1                      [deeds, reason, earthquake, may, allah, forgive, us]   \n",
       "2            [heard, earthquake, different, cities, stay, safe, everyone, ]   \n",
       "3  [forest, fire, spot, pond, geese, fleeing, across, street, cannot, save]   \n",
       "4                             [forest, fire, near, la, ronge, sask, canada]   \n",
       "\n",
       "                                                       tidy_tweet_stems  \n",
       "0                                         [happen, terribl, car, crash]  \n",
       "1                     [deed, reason, earthquak, may, allah, forgiv, us]  \n",
       "2               [heard, earthquak, differ, citi, stay, safe, everyon, ]  \n",
       "3  [forest, fire, spot, pond, gees, flee, across, street, cannot, save]  \n",
       "4                          [forest, fire, near, la, rong, sask, canada]  "
      ]
     },
     "execution_count": 162,
     "metadata": {},
     "output_type": "execute_result"
    }
   ],
   "source": [
    "df.head()"
   ]
  },
  {
   "cell_type": "code",
   "execution_count": 163,
   "metadata": {},
   "outputs": [
    {
     "data": {
      "text/plain": [
       "(10876, 9)"
      ]
     },
     "execution_count": 163,
     "metadata": {},
     "output_type": "execute_result"
    }
   ],
   "source": [
    "df.shape"
   ]
  },
  {
   "cell_type": "code",
   "execution_count": 164,
   "metadata": {
    "collapsed": true
   },
   "outputs": [],
   "source": [
    "# Stitching together\n",
    "tokens = []\n",
    "for i,d in enumerate(df['tidy_tweet_stems']):\n",
    "    tokens.append(' '.join(d))"
   ]
  },
  {
   "cell_type": "code",
   "execution_count": 165,
   "metadata": {
    "collapsed": true
   },
   "outputs": [],
   "source": [
    "df['tidy_tweet_final'] = tokens"
   ]
  },
  {
   "cell_type": "code",
   "execution_count": 166,
   "metadata": {
    "collapsed": true
   },
   "outputs": [],
   "source": [
    "# Removing \"Can't Decide\" rows\n",
    "df.drop(df[df['choose_one'] == \"Can't Decide\"].index, inplace=True)"
   ]
  },
  {
   "cell_type": "code",
   "execution_count": 167,
   "metadata": {
    "collapsed": true
   },
   "outputs": [],
   "source": [
    "df = df.reset_index(drop=True)"
   ]
  },
  {
   "cell_type": "code",
   "execution_count": 170,
   "metadata": {},
   "outputs": [
    {
     "data": {
      "text/plain": [
       "Not Relevant    6187\n",
       "Relevant        4673\n",
       "Name: choose_one, dtype: int64"
      ]
     },
     "execution_count": 170,
     "metadata": {},
     "output_type": "execute_result"
    }
   ],
   "source": [
    "df.choose_one.value_counts()"
   ]
  },
  {
   "cell_type": "code",
   "execution_count": 171,
   "metadata": {
    "collapsed": true
   },
   "outputs": [],
   "source": [
    "def encoder(x):\n",
    "    if x == 'Relevant':\n",
    "        return 1\n",
    "    if x == 'Not Relevant':\n",
    "        return 0"
   ]
  },
  {
   "cell_type": "code",
   "execution_count": 172,
   "metadata": {
    "collapsed": true
   },
   "outputs": [],
   "source": [
    "df['choose_one'] = df['choose_one'].apply(lambda x: encoder(x))"
   ]
  },
  {
   "cell_type": "code",
   "execution_count": 173,
   "metadata": {},
   "outputs": [
    {
     "data": {
      "text/plain": [
       "0    6187\n",
       "1    4673\n",
       "Name: choose_one, dtype: int64"
      ]
     },
     "execution_count": 173,
     "metadata": {},
     "output_type": "execute_result"
    }
   ],
   "source": [
    "df.choose_one.value_counts()"
   ]
  },
  {
   "cell_type": "code",
   "execution_count": 174,
   "metadata": {},
   "outputs": [
    {
     "data": {
      "text/html": [
       "<div>\n",
       "<style scoped>\n",
       "    .dataframe tbody tr th:only-of-type {\n",
       "        vertical-align: middle;\n",
       "    }\n",
       "\n",
       "    .dataframe tbody tr th {\n",
       "        vertical-align: top;\n",
       "    }\n",
       "\n",
       "    .dataframe thead th {\n",
       "        text-align: right;\n",
       "    }\n",
       "</style>\n",
       "<table border=\"1\" class=\"dataframe\">\n",
       "  <thead>\n",
       "    <tr style=\"text-align: right;\">\n",
       "      <th></th>\n",
       "      <th>text</th>\n",
       "      <th>choose_one</th>\n",
       "      <th>tidy_tweet</th>\n",
       "      <th>polarity</th>\n",
       "      <th>review_len</th>\n",
       "      <th>word_count</th>\n",
       "      <th>tidy_tweet_tokens</th>\n",
       "      <th>tidy_tweet_wo_stopw</th>\n",
       "      <th>tidy_tweet_stems</th>\n",
       "      <th>tidy_tweet_final</th>\n",
       "    </tr>\n",
       "  </thead>\n",
       "  <tbody>\n",
       "    <tr>\n",
       "      <th>0</th>\n",
       "      <td>Just happened a terrible car crash</td>\n",
       "      <td>1</td>\n",
       "      <td>just happened a terrible car crash</td>\n",
       "      <td>-1.00</td>\n",
       "      <td>34</td>\n",
       "      <td>6</td>\n",
       "      <td>[just, happened, a, terrible, car, crash]</td>\n",
       "      <td>[happened, terrible, car, crash]</td>\n",
       "      <td>[happen, terribl, car, crash]</td>\n",
       "      <td>happen terribl car crash</td>\n",
       "    </tr>\n",
       "    <tr>\n",
       "      <th>1</th>\n",
       "      <td>Our Deeds are the Reason of this #earthquake May ALLAH Forgive us all</td>\n",
       "      <td>1</td>\n",
       "      <td>our deeds are the reason of this  earthquake may allah forgive us all</td>\n",
       "      <td>0.00</td>\n",
       "      <td>69</td>\n",
       "      <td>13</td>\n",
       "      <td>[our, deeds, are, the, reason, of, this, earthquake, may, allah, forgive, us, all]</td>\n",
       "      <td>[deeds, reason, earthquake, may, allah, forgive, us]</td>\n",
       "      <td>[deed, reason, earthquak, may, allah, forgiv, us]</td>\n",
       "      <td>deed reason earthquak may allah forgiv us</td>\n",
       "    </tr>\n",
       "    <tr>\n",
       "      <th>2</th>\n",
       "      <td>Heard about #earthquake is different cities, stay safe everyone.</td>\n",
       "      <td>1</td>\n",
       "      <td>heard about  earthquake is different cities  stay safe everyone</td>\n",
       "      <td>0.25</td>\n",
       "      <td>64</td>\n",
       "      <td>9</td>\n",
       "      <td>[heard, about, earthquake, is, different, cities, stay, safe, everyone, ]</td>\n",
       "      <td>[heard, earthquake, different, cities, stay, safe, everyone, ]</td>\n",
       "      <td>[heard, earthquak, differ, citi, stay, safe, everyon, ]</td>\n",
       "      <td>heard earthquak differ citi stay safe everyon</td>\n",
       "    </tr>\n",
       "    <tr>\n",
       "      <th>3</th>\n",
       "      <td>there is a forest fire at spot pond, geese are fleeing across the street, I cannot save them all</td>\n",
       "      <td>1</td>\n",
       "      <td>there is a forest fire at spot pond  geese are fleeing across the street  i cannot save them all</td>\n",
       "      <td>0.00</td>\n",
       "      <td>96</td>\n",
       "      <td>19</td>\n",
       "      <td>[there, is, a, forest, fire, at, spot, pond, geese, are, fleeing, across, the, street, i, cannot, save, them, all]</td>\n",
       "      <td>[forest, fire, spot, pond, geese, fleeing, across, street, cannot, save]</td>\n",
       "      <td>[forest, fire, spot, pond, gees, flee, across, street, cannot, save]</td>\n",
       "      <td>forest fire spot pond gees flee across street cannot save</td>\n",
       "    </tr>\n",
       "    <tr>\n",
       "      <th>4</th>\n",
       "      <td>Forest fire near La Ronge Sask. Canada</td>\n",
       "      <td>1</td>\n",
       "      <td>forest fire near la ronge sask  canada</td>\n",
       "      <td>0.10</td>\n",
       "      <td>38</td>\n",
       "      <td>7</td>\n",
       "      <td>[forest, fire, near, la, ronge, sask, canada]</td>\n",
       "      <td>[forest, fire, near, la, ronge, sask, canada]</td>\n",
       "      <td>[forest, fire, near, la, rong, sask, canada]</td>\n",
       "      <td>forest fire near la rong sask canada</td>\n",
       "    </tr>\n",
       "  </tbody>\n",
       "</table>\n",
       "</div>"
      ],
      "text/plain": [
       "                                                                                               text  \\\n",
       "0                                                                Just happened a terrible car crash   \n",
       "1                             Our Deeds are the Reason of this #earthquake May ALLAH Forgive us all   \n",
       "2                                  Heard about #earthquake is different cities, stay safe everyone.   \n",
       "3  there is a forest fire at spot pond, geese are fleeing across the street, I cannot save them all   \n",
       "4                                                            Forest fire near La Ronge Sask. Canada   \n",
       "\n",
       "   choose_one  \\\n",
       "0           1   \n",
       "1           1   \n",
       "2           1   \n",
       "3           1   \n",
       "4           1   \n",
       "\n",
       "                                                                                         tidy_tweet  \\\n",
       "0                                                                just happened a terrible car crash   \n",
       "1                             our deeds are the reason of this  earthquake may allah forgive us all   \n",
       "2                                  heard about  earthquake is different cities  stay safe everyone    \n",
       "3  there is a forest fire at spot pond  geese are fleeing across the street  i cannot save them all   \n",
       "4                                                            forest fire near la ronge sask  canada   \n",
       "\n",
       "   polarity  review_len  word_count  \\\n",
       "0     -1.00          34           6   \n",
       "1      0.00          69          13   \n",
       "2      0.25          64           9   \n",
       "3      0.00          96          19   \n",
       "4      0.10          38           7   \n",
       "\n",
       "                                                                                                    tidy_tweet_tokens  \\\n",
       "0                                                                           [just, happened, a, terrible, car, crash]   \n",
       "1                                  [our, deeds, are, the, reason, of, this, earthquake, may, allah, forgive, us, all]   \n",
       "2                                           [heard, about, earthquake, is, different, cities, stay, safe, everyone, ]   \n",
       "3  [there, is, a, forest, fire, at, spot, pond, geese, are, fleeing, across, the, street, i, cannot, save, them, all]   \n",
       "4                                                                       [forest, fire, near, la, ronge, sask, canada]   \n",
       "\n",
       "                                                        tidy_tweet_wo_stopw  \\\n",
       "0                                          [happened, terrible, car, crash]   \n",
       "1                      [deeds, reason, earthquake, may, allah, forgive, us]   \n",
       "2            [heard, earthquake, different, cities, stay, safe, everyone, ]   \n",
       "3  [forest, fire, spot, pond, geese, fleeing, across, street, cannot, save]   \n",
       "4                             [forest, fire, near, la, ronge, sask, canada]   \n",
       "\n",
       "                                                       tidy_tweet_stems  \\\n",
       "0                                         [happen, terribl, car, crash]   \n",
       "1                     [deed, reason, earthquak, may, allah, forgiv, us]   \n",
       "2               [heard, earthquak, differ, citi, stay, safe, everyon, ]   \n",
       "3  [forest, fire, spot, pond, gees, flee, across, street, cannot, save]   \n",
       "4                          [forest, fire, near, la, rong, sask, canada]   \n",
       "\n",
       "                                            tidy_tweet_final  \n",
       "0                                   happen terribl car crash  \n",
       "1                  deed reason earthquak may allah forgiv us  \n",
       "2             heard earthquak differ citi stay safe everyon   \n",
       "3  forest fire spot pond gees flee across street cannot save  \n",
       "4                       forest fire near la rong sask canada  "
      ]
     },
     "execution_count": 174,
     "metadata": {},
     "output_type": "execute_result"
    }
   ],
   "source": [
    "df.head()"
   ]
  },
  {
   "cell_type": "code",
   "execution_count": 175,
   "metadata": {
    "collapsed": true
   },
   "outputs": [],
   "source": [
    "df.to_pickle('final-data.pickle')"
   ]
  },
  {
   "cell_type": "code",
   "execution_count": null,
   "metadata": {
    "collapsed": true
   },
   "outputs": [],
   "source": []
  }
 ],
 "metadata": {
  "kernelspec": {
   "display_name": "Python 3",
   "language": "python",
   "name": "python3"
  },
  "language_info": {
   "codemirror_mode": {
    "name": "ipython",
    "version": 3
   },
   "file_extension": ".py",
   "mimetype": "text/x-python",
   "name": "python",
   "nbconvert_exporter": "python",
   "pygments_lexer": "ipython3",
   "version": "3.6.7"
  }
 },
 "nbformat": 4,
 "nbformat_minor": 2
}
